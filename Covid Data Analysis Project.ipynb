{
 "cells": [
  {
   "cell_type": "code",
   "execution_count": 4,
   "id": "0a4ad07f-08d2-4223-9209-cd75e47f35d9",
   "metadata": {},
   "outputs": [],
   "source": [
    "from datetime import datetime\n",
    "import pandas as pd\n",
    "import numpy as np\n",
    "import seaborn as sns\n",
    "import matplotlib.pyplot as plt\n",
    "import plotly.express as px\n",
    "from plotly.subplots import make_subplots"
   ]
  },
  {
   "cell_type": "code",
   "execution_count": 5,
   "id": "430bd9f3-3e7e-441c-92b7-66f2aff1aa18",
   "metadata": {},
   "outputs": [
    {
     "name": "stdout",
     "output_type": "stream",
     "text": [
      "Dataset Load successfully\n"
     ]
    }
   ],
   "source": [
    "df=pd.read_csv(r'C:\\Users\\hi! SONY\\Downloads\\covid_19_india.csv')\n",
    "print('Dataset Load successfully')"
   ]
  },
  {
   "cell_type": "code",
   "execution_count": 8,
   "id": "1611a4d1-0f4d-413d-b024-eaee4c7fc316",
   "metadata": {},
   "outputs": [
    {
     "data": {
      "text/html": [
       "<div>\n",
       "<style scoped>\n",
       "    .dataframe tbody tr th:only-of-type {\n",
       "        vertical-align: middle;\n",
       "    }\n",
       "\n",
       "    .dataframe tbody tr th {\n",
       "        vertical-align: top;\n",
       "    }\n",
       "\n",
       "    .dataframe thead th {\n",
       "        text-align: right;\n",
       "    }\n",
       "</style>\n",
       "<table border=\"1\" class=\"dataframe\">\n",
       "  <thead>\n",
       "    <tr style=\"text-align: right;\">\n",
       "      <th></th>\n",
       "      <th>Unnamed: 0</th>\n",
       "      <th>Date</th>\n",
       "      <th>State/UT</th>\n",
       "      <th>Latitude</th>\n",
       "      <th>Longitude</th>\n",
       "      <th>Confirmed</th>\n",
       "      <th>Active</th>\n",
       "      <th>Deaths</th>\n",
       "      <th>Mortality rate</th>\n",
       "      <th>Cured</th>\n",
       "      <th>Recovery rate</th>\n",
       "    </tr>\n",
       "  </thead>\n",
       "  <tbody>\n",
       "    <tr>\n",
       "      <th>0</th>\n",
       "      <td>0</td>\n",
       "      <td>2020/01/30</td>\n",
       "      <td>Kerala</td>\n",
       "      <td>10.8505</td>\n",
       "      <td>76.2711</td>\n",
       "      <td>1</td>\n",
       "      <td>1</td>\n",
       "      <td>0</td>\n",
       "      <td>0.0</td>\n",
       "      <td>0</td>\n",
       "      <td>0.0</td>\n",
       "    </tr>\n",
       "    <tr>\n",
       "      <th>1</th>\n",
       "      <td>1</td>\n",
       "      <td>2020/01/31</td>\n",
       "      <td>Kerala</td>\n",
       "      <td>10.8505</td>\n",
       "      <td>76.2711</td>\n",
       "      <td>1</td>\n",
       "      <td>1</td>\n",
       "      <td>0</td>\n",
       "      <td>0.0</td>\n",
       "      <td>0</td>\n",
       "      <td>0.0</td>\n",
       "    </tr>\n",
       "    <tr>\n",
       "      <th>2</th>\n",
       "      <td>2</td>\n",
       "      <td>2020/02/01</td>\n",
       "      <td>Kerala</td>\n",
       "      <td>10.8505</td>\n",
       "      <td>76.2711</td>\n",
       "      <td>2</td>\n",
       "      <td>2</td>\n",
       "      <td>0</td>\n",
       "      <td>0.0</td>\n",
       "      <td>0</td>\n",
       "      <td>0.0</td>\n",
       "    </tr>\n",
       "    <tr>\n",
       "      <th>3</th>\n",
       "      <td>3</td>\n",
       "      <td>2020/02/02</td>\n",
       "      <td>Kerala</td>\n",
       "      <td>10.8505</td>\n",
       "      <td>76.2711</td>\n",
       "      <td>3</td>\n",
       "      <td>3</td>\n",
       "      <td>0</td>\n",
       "      <td>0.0</td>\n",
       "      <td>0</td>\n",
       "      <td>0.0</td>\n",
       "    </tr>\n",
       "    <tr>\n",
       "      <th>4</th>\n",
       "      <td>4</td>\n",
       "      <td>2020/02/03</td>\n",
       "      <td>Kerala</td>\n",
       "      <td>10.8505</td>\n",
       "      <td>76.2711</td>\n",
       "      <td>3</td>\n",
       "      <td>3</td>\n",
       "      <td>0</td>\n",
       "      <td>0.0</td>\n",
       "      <td>0</td>\n",
       "      <td>0.0</td>\n",
       "    </tr>\n",
       "  </tbody>\n",
       "</table>\n",
       "</div>"
      ],
      "text/plain": [
       "   Unnamed: 0        Date State/UT  Latitude  Longitude  Confirmed  Active  \\\n",
       "0           0  2020/01/30   Kerala   10.8505    76.2711          1       1   \n",
       "1           1  2020/01/31   Kerala   10.8505    76.2711          1       1   \n",
       "2           2  2020/02/01   Kerala   10.8505    76.2711          2       2   \n",
       "3           3  2020/02/02   Kerala   10.8505    76.2711          3       3   \n",
       "4           4  2020/02/03   Kerala   10.8505    76.2711          3       3   \n",
       "\n",
       "   Deaths  Mortality rate  Cured  Recovery rate  \n",
       "0       0             0.0      0            0.0  \n",
       "1       0             0.0      0            0.0  \n",
       "2       0             0.0      0            0.0  \n",
       "3       0             0.0      0            0.0  \n",
       "4       0             0.0      0            0.0  "
      ]
     },
     "execution_count": 8,
     "metadata": {},
     "output_type": "execute_result"
    }
   ],
   "source": [
    "df.head()"
   ]
  },
  {
   "cell_type": "code",
   "execution_count": 9,
   "id": "f39176ef-f32b-4af1-b258-4a3e67c45665",
   "metadata": {},
   "outputs": [
    {
     "name": "stdout",
     "output_type": "stream",
     "text": [
      "<class 'pandas.core.frame.DataFrame'>\n",
      "RangeIndex: 764 entries, 0 to 763\n",
      "Data columns (total 11 columns):\n",
      " #   Column          Non-Null Count  Dtype  \n",
      "---  ------          --------------  -----  \n",
      " 0   Unnamed: 0      764 non-null    int64  \n",
      " 1   Date            764 non-null    object \n",
      " 2   State/UT        764 non-null    object \n",
      " 3   Latitude        764 non-null    float64\n",
      " 4   Longitude       764 non-null    float64\n",
      " 5   Confirmed       764 non-null    int64  \n",
      " 6   Active          764 non-null    int64  \n",
      " 7   Deaths          764 non-null    int64  \n",
      " 8   Mortality rate  763 non-null    float64\n",
      " 9   Cured           764 non-null    int64  \n",
      " 10  Recovery rate   763 non-null    float64\n",
      "dtypes: float64(4), int64(5), object(2)\n",
      "memory usage: 65.8+ KB\n"
     ]
    }
   ],
   "source": [
    "df.info()"
   ]
  },
  {
   "cell_type": "code",
   "execution_count": 10,
   "id": "ec855e9c-e868-46ad-8e54-d8e8ae11530a",
   "metadata": {},
   "outputs": [
    {
     "data": {
      "text/html": [
       "<div>\n",
       "<style scoped>\n",
       "    .dataframe tbody tr th:only-of-type {\n",
       "        vertical-align: middle;\n",
       "    }\n",
       "\n",
       "    .dataframe tbody tr th {\n",
       "        vertical-align: top;\n",
       "    }\n",
       "\n",
       "    .dataframe thead th {\n",
       "        text-align: right;\n",
       "    }\n",
       "</style>\n",
       "<table border=\"1\" class=\"dataframe\">\n",
       "  <thead>\n",
       "    <tr style=\"text-align: right;\">\n",
       "      <th></th>\n",
       "      <th>Unnamed: 0</th>\n",
       "      <th>Latitude</th>\n",
       "      <th>Longitude</th>\n",
       "      <th>Confirmed</th>\n",
       "      <th>Active</th>\n",
       "      <th>Deaths</th>\n",
       "      <th>Mortality rate</th>\n",
       "      <th>Cured</th>\n",
       "      <th>Recovery rate</th>\n",
       "    </tr>\n",
       "  </thead>\n",
       "  <tbody>\n",
       "    <tr>\n",
       "      <th>count</th>\n",
       "      <td>764.000000</td>\n",
       "      <td>764.000000</td>\n",
       "      <td>764.000000</td>\n",
       "      <td>764.000000</td>\n",
       "      <td>764.000000</td>\n",
       "      <td>764.000000</td>\n",
       "      <td>763.000000</td>\n",
       "      <td>764.000000</td>\n",
       "      <td>763.000000</td>\n",
       "    </tr>\n",
       "    <tr>\n",
       "      <th>mean</th>\n",
       "      <td>381.500000</td>\n",
       "      <td>22.647161</td>\n",
       "      <td>79.307435</td>\n",
       "      <td>46.303665</td>\n",
       "      <td>41.630890</td>\n",
       "      <td>1.121728</td>\n",
       "      <td>0.022537</td>\n",
       "      <td>3.551047</td>\n",
       "      <td>0.073453</td>\n",
       "    </tr>\n",
       "    <tr>\n",
       "      <th>std</th>\n",
       "      <td>220.692093</td>\n",
       "      <td>7.464927</td>\n",
       "      <td>5.240773</td>\n",
       "      <td>100.791894</td>\n",
       "      <td>91.697948</td>\n",
       "      <td>3.901755</td>\n",
       "      <td>0.061010</td>\n",
       "      <td>8.630997</td>\n",
       "      <td>0.151062</td>\n",
       "    </tr>\n",
       "    <tr>\n",
       "      <th>min</th>\n",
       "      <td>0.000000</td>\n",
       "      <td>10.850500</td>\n",
       "      <td>71.192400</td>\n",
       "      <td>0.000000</td>\n",
       "      <td>0.000000</td>\n",
       "      <td>0.000000</td>\n",
       "      <td>0.000000</td>\n",
       "      <td>0.000000</td>\n",
       "      <td>0.000000</td>\n",
       "    </tr>\n",
       "    <tr>\n",
       "      <th>25%</th>\n",
       "      <td>190.750000</td>\n",
       "      <td>15.912900</td>\n",
       "      <td>76.085600</td>\n",
       "      <td>3.000000</td>\n",
       "      <td>2.000000</td>\n",
       "      <td>0.000000</td>\n",
       "      <td>0.000000</td>\n",
       "      <td>0.000000</td>\n",
       "      <td>0.000000</td>\n",
       "    </tr>\n",
       "    <tr>\n",
       "      <th>50%</th>\n",
       "      <td>381.500000</td>\n",
       "      <td>22.986800</td>\n",
       "      <td>78.293200</td>\n",
       "      <td>10.000000</td>\n",
       "      <td>8.000000</td>\n",
       "      <td>0.000000</td>\n",
       "      <td>0.000000</td>\n",
       "      <td>0.000000</td>\n",
       "      <td>0.000000</td>\n",
       "    </tr>\n",
       "    <tr>\n",
       "      <th>75%</th>\n",
       "      <td>572.250000</td>\n",
       "      <td>29.058800</td>\n",
       "      <td>79.808300</td>\n",
       "      <td>38.000000</td>\n",
       "      <td>32.000000</td>\n",
       "      <td>1.000000</td>\n",
       "      <td>0.020948</td>\n",
       "      <td>3.000000</td>\n",
       "      <td>0.082118</td>\n",
       "    </tr>\n",
       "    <tr>\n",
       "      <th>max</th>\n",
       "      <td>763.000000</td>\n",
       "      <td>34.299600</td>\n",
       "      <td>94.727800</td>\n",
       "      <td>1018.000000</td>\n",
       "      <td>875.000000</td>\n",
       "      <td>64.000000</td>\n",
       "      <td>0.500000</td>\n",
       "      <td>79.000000</td>\n",
       "      <td>1.000000</td>\n",
       "    </tr>\n",
       "  </tbody>\n",
       "</table>\n",
       "</div>"
      ],
      "text/plain": [
       "       Unnamed: 0    Latitude   Longitude    Confirmed      Active  \\\n",
       "count  764.000000  764.000000  764.000000   764.000000  764.000000   \n",
       "mean   381.500000   22.647161   79.307435    46.303665   41.630890   \n",
       "std    220.692093    7.464927    5.240773   100.791894   91.697948   \n",
       "min      0.000000   10.850500   71.192400     0.000000    0.000000   \n",
       "25%    190.750000   15.912900   76.085600     3.000000    2.000000   \n",
       "50%    381.500000   22.986800   78.293200    10.000000    8.000000   \n",
       "75%    572.250000   29.058800   79.808300    38.000000   32.000000   \n",
       "max    763.000000   34.299600   94.727800  1018.000000  875.000000   \n",
       "\n",
       "           Deaths  Mortality rate       Cured  Recovery rate  \n",
       "count  764.000000      763.000000  764.000000     763.000000  \n",
       "mean     1.121728        0.022537    3.551047       0.073453  \n",
       "std      3.901755        0.061010    8.630997       0.151062  \n",
       "min      0.000000        0.000000    0.000000       0.000000  \n",
       "25%      0.000000        0.000000    0.000000       0.000000  \n",
       "50%      0.000000        0.000000    0.000000       0.000000  \n",
       "75%      1.000000        0.020948    3.000000       0.082118  \n",
       "max     64.000000        0.500000   79.000000       1.000000  "
      ]
     },
     "execution_count": 10,
     "metadata": {},
     "output_type": "execute_result"
    }
   ],
   "source": [
    "df.describe()"
   ]
  },
  {
   "cell_type": "code",
   "execution_count": 6,
   "id": "bd63cbb4-af98-490e-8406-7b5218d11cd2",
   "metadata": {},
   "outputs": [
    {
     "name": "stdout",
     "output_type": "stream",
     "text": [
      "Dataset Load successfully\n"
     ]
    }
   ],
   "source": [
    "df1=pd.read_csv(r'C:\\Users\\hi! SONY\\Downloads\\COVID-19 India Statewise Vaccine Data.csv')\n",
    "print('Dataset Load successfully')"
   ]
  },
  {
   "cell_type": "code",
   "execution_count": 12,
   "id": "d31272d9-071c-4d39-985b-30bd5d590a99",
   "metadata": {},
   "outputs": [
    {
     "data": {
      "text/html": [
       "<div>\n",
       "<style scoped>\n",
       "    .dataframe tbody tr th:only-of-type {\n",
       "        vertical-align: middle;\n",
       "    }\n",
       "\n",
       "    .dataframe tbody tr th {\n",
       "        vertical-align: top;\n",
       "    }\n",
       "\n",
       "    .dataframe thead th {\n",
       "        text-align: right;\n",
       "    }\n",
       "</style>\n",
       "<table border=\"1\" class=\"dataframe\">\n",
       "  <thead>\n",
       "    <tr style=\"text-align: right;\">\n",
       "      <th></th>\n",
       "      <th>State/UTs</th>\n",
       "      <th>Total Vaccination Doses</th>\n",
       "      <th>Dose1</th>\n",
       "      <th>Dose 2</th>\n",
       "      <th>Dose 1 15-18</th>\n",
       "      <th>Dose 2 15-18</th>\n",
       "      <th>Dose 1 12-14</th>\n",
       "      <th>Dose 2 12-14</th>\n",
       "      <th>Precaution 18-59</th>\n",
       "      <th>Population</th>\n",
       "    </tr>\n",
       "  </thead>\n",
       "  <tbody>\n",
       "    <tr>\n",
       "      <th>0</th>\n",
       "      <td>Andaman And Nicobar</td>\n",
       "      <td>991264</td>\n",
       "      <td>313284</td>\n",
       "      <td>320383</td>\n",
       "      <td>19208</td>\n",
       "      <td>18860</td>\n",
       "      <td>15124</td>\n",
       "      <td>14042</td>\n",
       "      <td>236936</td>\n",
       "      <td>399001</td>\n",
       "    </tr>\n",
       "    <tr>\n",
       "      <th>1</th>\n",
       "      <td>Andhra Pradesh</td>\n",
       "      <td>110957430</td>\n",
       "      <td>40645695</td>\n",
       "      <td>43555744</td>\n",
       "      <td>2535344</td>\n",
       "      <td>2527613</td>\n",
       "      <td>1523375</td>\n",
       "      <td>1495445</td>\n",
       "      <td>12054868</td>\n",
       "      <td>91702478</td>\n",
       "    </tr>\n",
       "    <tr>\n",
       "      <th>2</th>\n",
       "      <td>Arunachal Pradesh</td>\n",
       "      <td>1924584</td>\n",
       "      <td>861396</td>\n",
       "      <td>748505</td>\n",
       "      <td>59100</td>\n",
       "      <td>44869</td>\n",
       "      <td>40852</td>\n",
       "      <td>28445</td>\n",
       "      <td>81191</td>\n",
       "      <td>1711947</td>\n",
       "    </tr>\n",
       "    <tr>\n",
       "      <th>3</th>\n",
       "      <td>Assam</td>\n",
       "      <td>50335778</td>\n",
       "      <td>22550941</td>\n",
       "      <td>20575569</td>\n",
       "      <td>1262520</td>\n",
       "      <td>972402</td>\n",
       "      <td>999552</td>\n",
       "      <td>602283</td>\n",
       "      <td>2108179</td>\n",
       "      <td>35998752</td>\n",
       "    </tr>\n",
       "    <tr>\n",
       "      <th>4</th>\n",
       "      <td>Bihar</td>\n",
       "      <td>157293015</td>\n",
       "      <td>62956601</td>\n",
       "      <td>59160917</td>\n",
       "      <td>6240650</td>\n",
       "      <td>5348480</td>\n",
       "      <td>4288630</td>\n",
       "      <td>3403195</td>\n",
       "      <td>12022637</td>\n",
       "      <td>128500364</td>\n",
       "    </tr>\n",
       "  </tbody>\n",
       "</table>\n",
       "</div>"
      ],
      "text/plain": [
       "             State/UTs  Total Vaccination Doses     Dose1    Dose 2  \\\n",
       "0  Andaman And Nicobar                   991264    313284    320383   \n",
       "1       Andhra Pradesh                110957430  40645695  43555744   \n",
       "2    Arunachal Pradesh                  1924584    861396    748505   \n",
       "3                Assam                 50335778  22550941  20575569   \n",
       "4                Bihar                157293015  62956601  59160917   \n",
       "\n",
       "   Dose 1 15-18  Dose 2 15-18  Dose 1 12-14  Dose 2 12-14  Precaution 18-59  \\\n",
       "0         19208         18860         15124         14042            236936   \n",
       "1       2535344       2527613       1523375       1495445          12054868   \n",
       "2         59100         44869         40852         28445             81191   \n",
       "3       1262520        972402        999552        602283           2108179   \n",
       "4       6240650       5348480       4288630       3403195          12022637   \n",
       "\n",
       "   Population  \n",
       "0      399001  \n",
       "1    91702478  \n",
       "2     1711947  \n",
       "3    35998752  \n",
       "4   128500364  "
      ]
     },
     "execution_count": 12,
     "metadata": {},
     "output_type": "execute_result"
    }
   ],
   "source": [
    "df1.head()"
   ]
  },
  {
   "cell_type": "code",
   "execution_count": 13,
   "id": "6bdd65ba-f0fe-4e7f-ae10-15aefe765b5d",
   "metadata": {},
   "outputs": [
    {
     "name": "stdout",
     "output_type": "stream",
     "text": [
      "<class 'pandas.core.frame.DataFrame'>\n",
      "RangeIndex: 36 entries, 0 to 35\n",
      "Data columns (total 10 columns):\n",
      " #   Column                   Non-Null Count  Dtype \n",
      "---  ------                   --------------  ----- \n",
      " 0   State/UTs                36 non-null     object\n",
      " 1   Total Vaccination Doses  36 non-null     int64 \n",
      " 2   Dose1                    36 non-null     int64 \n",
      " 3   Dose 2                   36 non-null     int64 \n",
      " 4   Dose 1 15-18             36 non-null     int64 \n",
      " 5   Dose 2 15-18             36 non-null     int64 \n",
      " 6   Dose 1 12-14             36 non-null     int64 \n",
      " 7   Dose 2 12-14             36 non-null     int64 \n",
      " 8   Precaution 18-59         36 non-null     int64 \n",
      " 9   Population               36 non-null     int64 \n",
      "dtypes: int64(9), object(1)\n",
      "memory usage: 2.9+ KB\n"
     ]
    }
   ],
   "source": [
    "df1.info()"
   ]
  },
  {
   "cell_type": "code",
   "execution_count": 14,
   "id": "717d3373-165f-4db1-b919-ae6610d46be4",
   "metadata": {},
   "outputs": [
    {
     "data": {
      "text/html": [
       "<div>\n",
       "<style scoped>\n",
       "    .dataframe tbody tr th:only-of-type {\n",
       "        vertical-align: middle;\n",
       "    }\n",
       "\n",
       "    .dataframe tbody tr th {\n",
       "        vertical-align: top;\n",
       "    }\n",
       "\n",
       "    .dataframe thead th {\n",
       "        text-align: right;\n",
       "    }\n",
       "</style>\n",
       "<table border=\"1\" class=\"dataframe\">\n",
       "  <thead>\n",
       "    <tr style=\"text-align: right;\">\n",
       "      <th></th>\n",
       "      <th>Total Vaccination Doses</th>\n",
       "      <th>Dose1</th>\n",
       "      <th>Dose 2</th>\n",
       "      <th>Dose 1 15-18</th>\n",
       "      <th>Dose 2 15-18</th>\n",
       "      <th>Dose 1 12-14</th>\n",
       "      <th>Dose 2 12-14</th>\n",
       "      <th>Precaution 18-59</th>\n",
       "      <th>Population</th>\n",
       "    </tr>\n",
       "  </thead>\n",
       "  <tbody>\n",
       "    <tr>\n",
       "      <th>count</th>\n",
       "      <td>3.600000e+01</td>\n",
       "      <td>3.600000e+01</td>\n",
       "      <td>3.600000e+01</td>\n",
       "      <td>3.600000e+01</td>\n",
       "      <td>3.600000e+01</td>\n",
       "      <td>3.600000e+01</td>\n",
       "      <td>3.600000e+01</td>\n",
       "      <td>3.600000e+01</td>\n",
       "      <td>3.600000e+01</td>\n",
       "    </tr>\n",
       "    <tr>\n",
       "      <th>mean</th>\n",
       "      <td>6.115204e+07</td>\n",
       "      <td>2.555900e+07</td>\n",
       "      <td>2.400569e+07</td>\n",
       "      <td>1.726729e+06</td>\n",
       "      <td>1.494555e+06</td>\n",
       "      <td>1.147220e+06</td>\n",
       "      <td>9.038605e+05</td>\n",
       "      <td>4.404951e+06</td>\n",
       "      <td>3.971861e+07</td>\n",
       "    </tr>\n",
       "    <tr>\n",
       "      <th>std</th>\n",
       "      <td>7.945565e+07</td>\n",
       "      <td>3.235136e+07</td>\n",
       "      <td>3.065844e+07</td>\n",
       "      <td>2.643017e+06</td>\n",
       "      <td>2.410739e+06</td>\n",
       "      <td>1.674575e+06</td>\n",
       "      <td>1.451959e+06</td>\n",
       "      <td>7.040571e+06</td>\n",
       "      <td>5.050913e+07</td>\n",
       "    </tr>\n",
       "    <tr>\n",
       "      <th>min</th>\n",
       "      <td>1.453130e+05</td>\n",
       "      <td>5.691400e+04</td>\n",
       "      <td>5.601900e+04</td>\n",
       "      <td>2.911000e+03</td>\n",
       "      <td>2.782000e+03</td>\n",
       "      <td>1.988000e+03</td>\n",
       "      <td>1.724000e+03</td>\n",
       "      <td>1.599000e+04</td>\n",
       "      <td>6.600100e+04</td>\n",
       "    </tr>\n",
       "    <tr>\n",
       "      <th>25%</th>\n",
       "      <td>2.287468e+06</td>\n",
       "      <td>1.045788e+06</td>\n",
       "      <td>8.914968e+05</td>\n",
       "      <td>5.975550e+04</td>\n",
       "      <td>4.459825e+04</td>\n",
       "      <td>3.800725e+04</td>\n",
       "      <td>2.649250e+04</td>\n",
       "      <td>1.323675e+05</td>\n",
       "      <td>1.695473e+06</td>\n",
       "    </tr>\n",
       "    <tr>\n",
       "      <th>50%</th>\n",
       "      <td>4.064265e+07</td>\n",
       "      <td>1.778092e+07</td>\n",
       "      <td>1.523439e+07</td>\n",
       "      <td>1.063244e+06</td>\n",
       "      <td>8.662620e+05</td>\n",
       "      <td>6.218590e+05</td>\n",
       "      <td>4.940200e+05</td>\n",
       "      <td>1.339208e+06</td>\n",
       "      <td>2.410088e+07</td>\n",
       "    </tr>\n",
       "    <tr>\n",
       "      <th>75%</th>\n",
       "      <td>1.121485e+08</td>\n",
       "      <td>4.281551e+07</td>\n",
       "      <td>4.431351e+07</td>\n",
       "      <td>2.558446e+06</td>\n",
       "      <td>2.299936e+06</td>\n",
       "      <td>1.680039e+06</td>\n",
       "      <td>1.472830e+06</td>\n",
       "      <td>6.229141e+06</td>\n",
       "      <td>6.979986e+07</td>\n",
       "    </tr>\n",
       "    <tr>\n",
       "      <th>max</th>\n",
       "      <td>3.920112e+08</td>\n",
       "      <td>1.540970e+08</td>\n",
       "      <td>1.478667e+08</td>\n",
       "      <td>1.419366e+07</td>\n",
       "      <td>1.322742e+07</td>\n",
       "      <td>8.709857e+06</td>\n",
       "      <td>7.876085e+06</td>\n",
       "      <td>3.664327e+07</td>\n",
       "      <td>2.315026e+08</td>\n",
       "    </tr>\n",
       "  </tbody>\n",
       "</table>\n",
       "</div>"
      ],
      "text/plain": [
       "       Total Vaccination Doses         Dose1        Dose 2  Dose 1 15-18  \\\n",
       "count             3.600000e+01  3.600000e+01  3.600000e+01  3.600000e+01   \n",
       "mean              6.115204e+07  2.555900e+07  2.400569e+07  1.726729e+06   \n",
       "std               7.945565e+07  3.235136e+07  3.065844e+07  2.643017e+06   \n",
       "min               1.453130e+05  5.691400e+04  5.601900e+04  2.911000e+03   \n",
       "25%               2.287468e+06  1.045788e+06  8.914968e+05  5.975550e+04   \n",
       "50%               4.064265e+07  1.778092e+07  1.523439e+07  1.063244e+06   \n",
       "75%               1.121485e+08  4.281551e+07  4.431351e+07  2.558446e+06   \n",
       "max               3.920112e+08  1.540970e+08  1.478667e+08  1.419366e+07   \n",
       "\n",
       "       Dose 2 15-18  Dose 1 12-14  Dose 2 12-14  Precaution 18-59  \\\n",
       "count  3.600000e+01  3.600000e+01  3.600000e+01      3.600000e+01   \n",
       "mean   1.494555e+06  1.147220e+06  9.038605e+05      4.404951e+06   \n",
       "std    2.410739e+06  1.674575e+06  1.451959e+06      7.040571e+06   \n",
       "min    2.782000e+03  1.988000e+03  1.724000e+03      1.599000e+04   \n",
       "25%    4.459825e+04  3.800725e+04  2.649250e+04      1.323675e+05   \n",
       "50%    8.662620e+05  6.218590e+05  4.940200e+05      1.339208e+06   \n",
       "75%    2.299936e+06  1.680039e+06  1.472830e+06      6.229141e+06   \n",
       "max    1.322742e+07  8.709857e+06  7.876085e+06      3.664327e+07   \n",
       "\n",
       "         Population  \n",
       "count  3.600000e+01  \n",
       "mean   3.971861e+07  \n",
       "std    5.050913e+07  \n",
       "min    6.600100e+04  \n",
       "25%    1.695473e+06  \n",
       "50%    2.410088e+07  \n",
       "75%    6.979986e+07  \n",
       "max    2.315026e+08  "
      ]
     },
     "execution_count": 14,
     "metadata": {},
     "output_type": "execute_result"
    }
   ],
   "source": [
    "df1.describe()"
   ]
  },
  {
   "cell_type": "code",
   "execution_count": 15,
   "id": "7a46ef62-5c00-477b-adf8-76967bfd2021",
   "metadata": {},
   "outputs": [
    {
     "data": {
      "text/html": [
       "<div>\n",
       "<style scoped>\n",
       "    .dataframe tbody tr th:only-of-type {\n",
       "        vertical-align: middle;\n",
       "    }\n",
       "\n",
       "    .dataframe tbody tr th {\n",
       "        vertical-align: top;\n",
       "    }\n",
       "\n",
       "    .dataframe thead th {\n",
       "        text-align: right;\n",
       "    }\n",
       "</style>\n",
       "<table border=\"1\" class=\"dataframe\">\n",
       "  <thead>\n",
       "    <tr style=\"text-align: right;\">\n",
       "      <th></th>\n",
       "      <th>Unnamed: 0</th>\n",
       "      <th>Date</th>\n",
       "      <th>State/UT</th>\n",
       "      <th>Latitude</th>\n",
       "      <th>Longitude</th>\n",
       "      <th>Confirmed</th>\n",
       "      <th>Active</th>\n",
       "      <th>Deaths</th>\n",
       "      <th>Mortality rate</th>\n",
       "      <th>Cured</th>\n",
       "      <th>Recovery rate</th>\n",
       "    </tr>\n",
       "  </thead>\n",
       "  <tbody>\n",
       "    <tr>\n",
       "      <th>269</th>\n",
       "      <td>269</td>\n",
       "      <td>2020/03/21</td>\n",
       "      <td>West Bengal</td>\n",
       "      <td>22.9868</td>\n",
       "      <td>87.855</td>\n",
       "      <td>3</td>\n",
       "      <td>3</td>\n",
       "      <td>0</td>\n",
       "      <td>0.0</td>\n",
       "      <td>0</td>\n",
       "      <td>0.0</td>\n",
       "    </tr>\n",
       "  </tbody>\n",
       "</table>\n",
       "</div>"
      ],
      "text/plain": [
       "     Unnamed: 0        Date     State/UT  Latitude  Longitude  Confirmed  \\\n",
       "269         269  2020/03/21  West Bengal   22.9868     87.855          3   \n",
       "\n",
       "     Active  Deaths  Mortality rate  Cured  Recovery rate  \n",
       "269       3       0             0.0      0            0.0  "
      ]
     },
     "execution_count": 15,
     "metadata": {},
     "output_type": "execute_result"
    }
   ],
   "source": [
    "df.sample()"
   ]
  },
  {
   "cell_type": "markdown",
   "id": "37ef4a33-2d0c-4146-a6eb-bff2a2755c0e",
   "metadata": {},
   "source": [
    "                          DATA CLEANING"
   ]
  },
  {
   "cell_type": "code",
   "execution_count": 7,
   "id": "0ffb677a-e532-48f3-bdd3-c9706e834d48",
   "metadata": {},
   "outputs": [],
   "source": [
    "df.drop([\"Unnamed: 0\",\"Latitude\",\"Longitude\"],inplace=True,axis=1)"
   ]
  },
  {
   "cell_type": "code",
   "execution_count": 8,
   "id": "433f55bd-d849-45ce-bde9-9d7c831be926",
   "metadata": {},
   "outputs": [
    {
     "data": {
      "text/html": [
       "<div>\n",
       "<style scoped>\n",
       "    .dataframe tbody tr th:only-of-type {\n",
       "        vertical-align: middle;\n",
       "    }\n",
       "\n",
       "    .dataframe tbody tr th {\n",
       "        vertical-align: top;\n",
       "    }\n",
       "\n",
       "    .dataframe thead th {\n",
       "        text-align: right;\n",
       "    }\n",
       "</style>\n",
       "<table border=\"1\" class=\"dataframe\">\n",
       "  <thead>\n",
       "    <tr style=\"text-align: right;\">\n",
       "      <th></th>\n",
       "      <th>Date</th>\n",
       "      <th>State/UT</th>\n",
       "      <th>Confirmed</th>\n",
       "      <th>Active</th>\n",
       "      <th>Deaths</th>\n",
       "      <th>Mortality rate</th>\n",
       "      <th>Cured</th>\n",
       "      <th>Recovery rate</th>\n",
       "    </tr>\n",
       "  </thead>\n",
       "  <tbody>\n",
       "    <tr>\n",
       "      <th>53</th>\n",
       "      <td>2020/03/06</td>\n",
       "      <td>Kerala</td>\n",
       "      <td>3</td>\n",
       "      <td>0</td>\n",
       "      <td>0</td>\n",
       "      <td>0.0</td>\n",
       "      <td>3</td>\n",
       "      <td>1.0</td>\n",
       "    </tr>\n",
       "  </tbody>\n",
       "</table>\n",
       "</div>"
      ],
      "text/plain": [
       "          Date State/UT  Confirmed  Active  Deaths  Mortality rate  Cured  \\\n",
       "53  2020/03/06   Kerala          3       0       0             0.0      3   \n",
       "\n",
       "    Recovery rate  \n",
       "53            1.0  "
      ]
     },
     "execution_count": 8,
     "metadata": {},
     "output_type": "execute_result"
    }
   ],
   "source": [
    "df.sample()"
   ]
  },
  {
   "cell_type": "code",
   "execution_count": 9,
   "id": "6707b3cb-c8fd-40dd-a3ba-31e2a48e808f",
   "metadata": {},
   "outputs": [
    {
     "data": {
      "text/plain": [
       "Date              0\n",
       "State/UT          0\n",
       "Confirmed         0\n",
       "Active            0\n",
       "Deaths            0\n",
       "Mortality rate    1\n",
       "Cured             0\n",
       "Recovery rate     1\n",
       "dtype: int64"
      ]
     },
     "execution_count": 9,
     "metadata": {},
     "output_type": "execute_result"
    }
   ],
   "source": [
    "df.isnull().sum()"
   ]
  },
  {
   "cell_type": "code",
   "execution_count": 13,
   "id": "8d58b405-b4c4-4607-8a69-3db71e2cfa45",
   "metadata": {},
   "outputs": [
    {
     "data": {
      "text/plain": [
       "Mortality rate\n",
       "0.000000    514\n",
       "0.333333     11\n",
       "0.066667      8\n",
       "0.166667      8\n",
       "0.034483      7\n",
       "           ... \n",
       "0.029703      1\n",
       "0.012658      1\n",
       "0.013514      1\n",
       "0.063830      1\n",
       "0.050505      1\n",
       "Name: count, Length: 145, dtype: int64"
      ]
     },
     "execution_count": 13,
     "metadata": {},
     "output_type": "execute_result"
    }
   ],
   "source": [
    "df['Mortality rate'].value_counts()"
   ]
  },
  {
   "cell_type": "code",
   "execution_count": 7,
   "id": "e0026d31-1792-459c-b724-d654e431f15e",
   "metadata": {},
   "outputs": [],
   "source": [
    "mean=df['Mortality rate'].mean(axis=0)\n",
    "df.replace(np.nan,mean,inplace=True)"
   ]
  },
  {
   "cell_type": "code",
   "execution_count": 8,
   "id": "2ae0ce07-707e-4301-84ba-34594b9291d8",
   "metadata": {},
   "outputs": [
    {
     "data": {
      "text/plain": [
       "np.int64(0)"
      ]
     },
     "execution_count": 8,
     "metadata": {},
     "output_type": "execute_result"
    }
   ],
   "source": [
    "df['Mortality rate'].isna().sum()"
   ]
  },
  {
   "cell_type": "code",
   "execution_count": 9,
   "id": "b99f46da-ba0e-4caa-ac82-ff0a8346d50f",
   "metadata": {},
   "outputs": [],
   "source": [
    "mean1=df['Recovery rate'].mean(axis=0)\n",
    "df.replace(np.nan,mean1,inplace=True)"
   ]
  },
  {
   "cell_type": "code",
   "execution_count": 10,
   "id": "3ec3c921-cc07-4f18-a3a6-753e92462d96",
   "metadata": {},
   "outputs": [
    {
     "data": {
      "text/plain": [
       "np.int64(0)"
      ]
     },
     "execution_count": 10,
     "metadata": {},
     "output_type": "execute_result"
    }
   ],
   "source": [
    "df['Recovery rate'].isna().sum()"
   ]
  },
  {
   "cell_type": "code",
   "execution_count": 11,
   "id": "7c3dc29f-3702-4bf4-babc-cc9780f80a4f",
   "metadata": {},
   "outputs": [
    {
     "data": {
      "text/plain": [
       "np.int64(0)"
      ]
     },
     "execution_count": 11,
     "metadata": {},
     "output_type": "execute_result"
    }
   ],
   "source": [
    "df.duplicated().sum()"
   ]
  },
  {
   "cell_type": "code",
   "execution_count": 27,
   "id": "4292fc9b-e9cb-43b9-aecd-979192b1a511",
   "metadata": {},
   "outputs": [
    {
     "data": {
      "text/html": [
       "<div>\n",
       "<style scoped>\n",
       "    .dataframe tbody tr th:only-of-type {\n",
       "        vertical-align: middle;\n",
       "    }\n",
       "\n",
       "    .dataframe tbody tr th {\n",
       "        vertical-align: top;\n",
       "    }\n",
       "\n",
       "    .dataframe thead th {\n",
       "        text-align: right;\n",
       "    }\n",
       "</style>\n",
       "<table border=\"1\" class=\"dataframe\">\n",
       "  <thead>\n",
       "    <tr style=\"text-align: right;\">\n",
       "      <th></th>\n",
       "      <th>State/UTs</th>\n",
       "      <th>Total Vaccination Doses</th>\n",
       "      <th>Dose1</th>\n",
       "      <th>Dose 2</th>\n",
       "      <th>Dose 1 15-18</th>\n",
       "      <th>Dose 2 15-18</th>\n",
       "      <th>Dose 1 12-14</th>\n",
       "      <th>Dose 2 12-14</th>\n",
       "      <th>Precaution 18-59</th>\n",
       "      <th>Population</th>\n",
       "    </tr>\n",
       "  </thead>\n",
       "  <tbody>\n",
       "    <tr>\n",
       "      <th>35</th>\n",
       "      <td>West Bengal</td>\n",
       "      <td>156100370</td>\n",
       "      <td>67305396</td>\n",
       "      <td>61606895</td>\n",
       "      <td>3599987</td>\n",
       "      <td>3041540</td>\n",
       "      <td>2622505</td>\n",
       "      <td>2059418</td>\n",
       "      <td>10358494</td>\n",
       "      <td>100896618</td>\n",
       "    </tr>\n",
       "  </tbody>\n",
       "</table>\n",
       "</div>"
      ],
      "text/plain": [
       "      State/UTs  Total Vaccination Doses     Dose1    Dose 2  Dose 1 15-18  \\\n",
       "35  West Bengal                156100370  67305396  61606895       3599987   \n",
       "\n",
       "    Dose 2 15-18  Dose 1 12-14  Dose 2 12-14  Precaution 18-59  Population  \n",
       "35       3041540       2622505       2059418          10358494   100896618  "
      ]
     },
     "execution_count": 27,
     "metadata": {},
     "output_type": "execute_result"
    }
   ],
   "source": [
    "df1.sample()"
   ]
  },
  {
   "cell_type": "code",
   "execution_count": 28,
   "id": "b49fa0da-8667-4791-93a5-f2016b5bf190",
   "metadata": {},
   "outputs": [
    {
     "data": {
      "text/plain": [
       "State/UTs                  0\n",
       "Total Vaccination Doses    0\n",
       "Dose1                      0\n",
       "Dose 2                     0\n",
       "Dose 1 15-18               0\n",
       "Dose 2 15-18               0\n",
       "Dose 1 12-14               0\n",
       "Dose 2 12-14               0\n",
       "Precaution 18-59           0\n",
       "Population                 0\n",
       "dtype: int64"
      ]
     },
     "execution_count": 28,
     "metadata": {},
     "output_type": "execute_result"
    }
   ],
   "source": [
    "df1.isnull().sum()"
   ]
  },
  {
   "cell_type": "code",
   "execution_count": 30,
   "id": "12cdd720-005f-402a-8fd5-2d0b2399e337",
   "metadata": {},
   "outputs": [
    {
     "data": {
      "text/plain": [
       "np.int64(0)"
      ]
     },
     "execution_count": 30,
     "metadata": {},
     "output_type": "execute_result"
    }
   ],
   "source": [
    "df1.duplicated().sum()"
   ]
  },
  {
   "cell_type": "code",
   "execution_count": 42,
   "id": "1596d579-a110-48f0-bf6b-6521ff18861e",
   "metadata": {},
   "outputs": [
    {
     "data": {
      "text/plain": [
       "Date               object\n",
       "State/UT           object\n",
       "Confirmed           int64\n",
       "Active              int64\n",
       "Deaths              int64\n",
       "Mortality rate    float64\n",
       "Cured               int64\n",
       "Recovery rate     float64\n",
       "dtype: object"
      ]
     },
     "execution_count": 42,
     "metadata": {},
     "output_type": "execute_result"
    }
   ],
   "source": [
    "df.dtypes"
   ]
  },
  {
   "cell_type": "code",
   "execution_count": 44,
   "id": "1884713e-9a40-4a5a-a3af-7a8681963dce",
   "metadata": {},
   "outputs": [],
   "source": [
    "\n",
    "df['Date'] = pd.to_datetime(df['Date'], format='%Y/%m/%d')\n"
   ]
  },
  {
   "cell_type": "markdown",
   "id": "5b410488-a8db-463d-909b-8a487dc8aed6",
   "metadata": {},
   "source": [
    "EDA(EXPLOARATRY DATA ANALYSIS)"
   ]
  },
  {
   "cell_type": "code",
   "execution_count": 41,
   "id": "e5bf3266-f1cf-4dec-8d6b-886700131192",
   "metadata": {},
   "outputs": [
    {
     "data": {
      "text/html": [
       "<div>\n",
       "<style scoped>\n",
       "    .dataframe tbody tr th:only-of-type {\n",
       "        vertical-align: middle;\n",
       "    }\n",
       "\n",
       "    .dataframe tbody tr th {\n",
       "        vertical-align: top;\n",
       "    }\n",
       "\n",
       "    .dataframe thead th {\n",
       "        text-align: right;\n",
       "    }\n",
       "</style>\n",
       "<table border=\"1\" class=\"dataframe\">\n",
       "  <thead>\n",
       "    <tr style=\"text-align: right;\">\n",
       "      <th></th>\n",
       "      <th>Date</th>\n",
       "      <th>State/UT</th>\n",
       "      <th>Confirmed</th>\n",
       "      <th>Active</th>\n",
       "      <th>Deaths</th>\n",
       "      <th>Mortality rate</th>\n",
       "      <th>Cured</th>\n",
       "      <th>Recovery rate</th>\n",
       "    </tr>\n",
       "  </thead>\n",
       "  <tbody>\n",
       "    <tr>\n",
       "      <th>29</th>\n",
       "      <td>2020/02/28</td>\n",
       "      <td>Kerala</td>\n",
       "      <td>3</td>\n",
       "      <td>3</td>\n",
       "      <td>0</td>\n",
       "      <td>0.0</td>\n",
       "      <td>0</td>\n",
       "      <td>0.0</td>\n",
       "    </tr>\n",
       "  </tbody>\n",
       "</table>\n",
       "</div>"
      ],
      "text/plain": [
       "          Date State/UT  Confirmed  Active  Deaths  Mortality rate  Cured  \\\n",
       "29  2020/02/28   Kerala          3       3       0             0.0      0   \n",
       "\n",
       "    Recovery rate  \n",
       "29            0.0  "
      ]
     },
     "execution_count": 41,
     "metadata": {},
     "output_type": "execute_result"
    }
   ],
   "source": [
    "df.sample()"
   ]
  },
  {
   "cell_type": "code",
   "execution_count": 49,
   "id": "cdedb335-7d24-4b92-87e5-9571b67f78e5",
   "metadata": {},
   "outputs": [
    {
     "data": {
      "text/html": [
       "<div>\n",
       "<style scoped>\n",
       "    .dataframe tbody tr th:only-of-type {\n",
       "        vertical-align: middle;\n",
       "    }\n",
       "\n",
       "    .dataframe tbody tr th {\n",
       "        vertical-align: top;\n",
       "    }\n",
       "\n",
       "    .dataframe thead th {\n",
       "        text-align: right;\n",
       "    }\n",
       "</style>\n",
       "<table border=\"1\" class=\"dataframe\">\n",
       "  <thead>\n",
       "    <tr style=\"text-align: right;\">\n",
       "      <th></th>\n",
       "      <th>Confirmed</th>\n",
       "      <th>Active</th>\n",
       "      <th>Deaths</th>\n",
       "      <th>Mortality rate</th>\n",
       "      <th>Cured</th>\n",
       "      <th>Recovery rate</th>\n",
       "    </tr>\n",
       "  </thead>\n",
       "  <tbody>\n",
       "    <tr>\n",
       "      <th>763</th>\n",
       "      <td>99</td>\n",
       "      <td>81</td>\n",
       "      <td>5</td>\n",
       "      <td>0.050505</td>\n",
       "      <td>13</td>\n",
       "      <td>0.131313</td>\n",
       "    </tr>\n",
       "  </tbody>\n",
       "</table>\n",
       "</div>"
      ],
      "text/plain": [
       "     Confirmed  Active  Deaths  Mortality rate  Cured  Recovery rate\n",
       "763         99      81       5        0.050505     13       0.131313"
      ]
     },
     "execution_count": 49,
     "metadata": {},
     "output_type": "execute_result"
    }
   ],
   "source": [
    "df2=df.select_dtypes(include='number')\n",
    "df2.sample()"
   ]
  },
  {
   "cell_type": "markdown",
   "id": "59ca9669-7309-41d5-aa55-6fd401b38e1d",
   "metadata": {},
   "source": [
    "Outliers"
   ]
  },
  {
   "cell_type": "code",
   "execution_count": 52,
   "id": "c929f335-56a8-42c0-87d1-d5705b498c85",
   "metadata": {},
   "outputs": [],
   "source": [
    "def outliers(df):\n",
    "\n",
    "    for col in df.select_dtypes(include='number'):\n",
    "\n",
    "        Q1 = df[col].quantile(0.25)\n",
    "\n",
    "        Q3 = df[col].quantile(0.75)\n",
    "\n",
    "        IQR = Q3 - Q1\n",
    "\n",
    "        outliers = df2[(df2[col] < (Q1 - 3 * IQR)) | (df2[col] > (Q3 + 3 * IQR))]\n",
    "\n",
    "        \n",
    "\n",
    "        print(f\"{col} - Outliers:\")\n",
    "\n",
    "        print(f\"Number of Outliers: {outliers.shape[0]}\")\n",
    "\n",
    "        \n",
    "\n",
    "        print(\"---------------------------\")"
   ]
  },
  {
   "cell_type": "code",
   "execution_count": 54,
   "id": "6677fcc7-4911-4cea-b78f-25ab686d438b",
   "metadata": {},
   "outputs": [
    {
     "name": "stdout",
     "output_type": "stream",
     "text": [
      "Confirmed - Outliers:\n",
      "Number of Outliers: 70\n",
      "---------------------------\n",
      "Active - Outliers:\n",
      "Number of Outliers: 72\n",
      "---------------------------\n",
      "Deaths - Outliers:\n",
      "Number of Outliers: 48\n",
      "---------------------------\n",
      "Mortality rate - Outliers:\n",
      "Number of Outliers: 50\n",
      "---------------------------\n",
      "Cured - Outliers:\n",
      "Number of Outliers: 63\n",
      "---------------------------\n",
      "Recovery rate - Outliers:\n",
      "Number of Outliers: 54\n",
      "---------------------------\n"
     ]
    }
   ],
   "source": [
    "outliers(df2)"
   ]
  },
  {
   "cell_type": "code",
   "execution_count": 55,
   "id": "f0e05c0a-88d9-433e-8dd1-5183bd3a9d6b",
   "metadata": {},
   "outputs": [
    {
     "data": {
      "text/plain": [
       "nan"
      ]
     },
     "execution_count": 55,
     "metadata": {},
     "output_type": "execute_result"
    }
   ],
   "source": [
    "def remove_outliers(df):\n",
    "\n",
    "    for col in df.select_dtypes(include='number'):\n",
    "\n",
    "        Q1 = df[col].quantile(0.25)\n",
    "\n",
    "        Q3 = df[col].quantile(0.75)\n",
    "\n",
    "        IQR = Q3 - Q1\n",
    "\n",
    "        outliers = df2[(df2[col] < (Q1 - 3 * IQR)) | (df2[col] > (Q3 + 3 * IQR))]\n",
    "        return remove_outliers\n",
    "        \n",
    "\n",
    "df[remove_outliers]=np.nan\n",
    "df[remove_outliers].mean()"
   ]
  },
  {
   "cell_type": "markdown",
   "id": "c8386e6b-d90b-46aa-914b-632bfc5beb45",
   "metadata": {},
   "source": [
    "DATA VISUALZITION"
   ]
  },
  {
   "cell_type": "code",
   "execution_count": 13,
   "id": "a7a4f3da-6d6e-428f-b949-ed07156d3ba7",
   "metadata": {},
   "outputs": [
    {
     "name": "stdout",
     "output_type": "stream",
     "text": [
      "State/UT\n",
      "Maharashtra       875\n",
      "Tamil Nadu        664\n",
      "Delhi             546\n",
      "Telengana         322\n",
      "Rajasthan         304\n",
      "Uttar Pradesh     302\n",
      "Andhra Pradesh    300\n",
      "Kerala            267\n",
      "Madhya Pradesh    216\n",
      "Karnataka         146\n",
      "Name: Active, dtype: int64\n"
     ]
    }
   ],
   "source": [
    "#TOP 10 ACTIVE CASES STATES\n",
    "\n",
    "top10 = df.groupby('State/UT')['Active'].max().sort_values(ascending=False).head(10)\n",
    "print(top10)\n",
    "\n"
   ]
  },
  {
   "cell_type": "code",
   "execution_count": 21,
   "id": "776796d8-96f6-471d-8bce-7f3a70d43e61",
   "metadata": {},
   "outputs": [
    {
     "data": {
      "image/png": "[encoded data removed]",
      "text/plain": [
       "<Figure size 1000x800 with 1 Axes>"
      ]
     },
     "metadata": {},
     "output_type": "display_data"
    }
   ],
   "source": [
    "fig=plt.figure(figsize=(10,8))\n",
    "sns.barplot(x=top10.values,y=top10.index,edgecolor='black',color='maroon')\n",
    "plt.title('Top 10 States with most of the active cases')\n",
    "plt.xlabel('Active cases')\n",
    "plt.ylabel('States')\n",
    "plt.show()"
   ]
  },
  {
   "cell_type": "code",
   "execution_count": 25,
   "id": "ad0427f0-3590-41ff-a7ab-4b9edee1609b",
   "metadata": {},
   "outputs": [
    {
     "name": "stdout",
     "output_type": "stream",
     "text": [
      "State/UT\n",
      "Maharashtra       64\n",
      "Gujarat           13\n",
      "Madhya Pradesh    13\n",
      "Delhi              9\n",
      "Telengana          7\n",
      "Name: Deaths, dtype: int64\n"
     ]
    }
   ],
   "source": [
    "#Top5 states with highest deaths\n",
    "top_5_deaths=df.groupby('State/UT')['Deaths'].max().sort_values(ascending=False).head(5)\n",
    "\n",
    "print(top_5_deaths)"
   ]
  },
  {
   "cell_type": "code",
   "execution_count": 26,
   "id": "02b2dd75-63e6-4085-859b-e42c8a763afd",
   "metadata": {},
   "outputs": [
    {
     "data": {
      "image/png": "[encoded data removed]",
      "text/plain": [
       "<Figure size 1000x800 with 1 Axes>"
      ]
     },
     "metadata": {},
     "output_type": "display_data"
    }
   ],
   "source": [
    "fig=plt.figure(figsize=(10,8))\n",
    "plt.title('Top 5 states with highest deaths')\n",
    "ax=sns.barplot(x=top_5_deaths.values,y=top_5_deaths.index,color='darkblue',edgecolor='red')\n",
    "plt.xlabel('Deaths')\n",
    "plt.ylabel('States')\n",
    "plt.show()"
   ]
  },
  {
   "cell_type": "code",
   "execution_count": 27,
   "id": "98bff3f7-26d1-49ed-80b5-c931b894ae5d",
   "metadata": {},
   "outputs": [
    {
     "data": {
      "text/html": [
       "<div>\n",
       "<style scoped>\n",
       "    .dataframe tbody tr th:only-of-type {\n",
       "        vertical-align: middle;\n",
       "    }\n",
       "\n",
       "    .dataframe tbody tr th {\n",
       "        vertical-align: top;\n",
       "    }\n",
       "\n",
       "    .dataframe thead th {\n",
       "        text-align: right;\n",
       "    }\n",
       "</style>\n",
       "<table border=\"1\" class=\"dataframe\">\n",
       "  <thead>\n",
       "    <tr style=\"text-align: right;\">\n",
       "      <th></th>\n",
       "      <th>State/UTs</th>\n",
       "      <th>Total Vaccination Doses</th>\n",
       "      <th>Dose1</th>\n",
       "      <th>Dose 2</th>\n",
       "      <th>Dose 1 15-18</th>\n",
       "      <th>Dose 2 15-18</th>\n",
       "      <th>Dose 1 12-14</th>\n",
       "      <th>Dose 2 12-14</th>\n",
       "      <th>Precaution 18-59</th>\n",
       "      <th>Population</th>\n",
       "    </tr>\n",
       "  </thead>\n",
       "  <tbody>\n",
       "    <tr>\n",
       "      <th>16</th>\n",
       "      <td>Kerala</td>\n",
       "      <td>57511593</td>\n",
       "      <td>27017714</td>\n",
       "      <td>23803189</td>\n",
       "      <td>1322849</td>\n",
       "      <td>957271</td>\n",
       "      <td>810955</td>\n",
       "      <td>511981</td>\n",
       "      <td>869095</td>\n",
       "      <td>34698876</td>\n",
       "    </tr>\n",
       "  </tbody>\n",
       "</table>\n",
       "</div>"
      ],
      "text/plain": [
       "   State/UTs  Total Vaccination Doses     Dose1    Dose 2  Dose 1 15-18  \\\n",
       "16    Kerala                 57511593  27017714  23803189       1322849   \n",
       "\n",
       "    Dose 2 15-18  Dose 1 12-14  Dose 2 12-14  Precaution 18-59  Population  \n",
       "16        957271        810955        511981            869095    34698876  "
      ]
     },
     "execution_count": 27,
     "metadata": {},
     "output_type": "execute_result"
    }
   ],
   "source": [
    "df1.sample()"
   ]
  },
  {
   "cell_type": "code",
   "execution_count": 30,
   "id": "71cb041e-0959-4632-8791-93d69cefe7a0",
   "metadata": {},
   "outputs": [
    {
     "data": {
      "text/plain": [
       "State/UTs\n",
       "Uttar Pradesh     392011174\n",
       "Maharashtra       177977996\n",
       "Bihar             157293015\n",
       "West Bengal       156100370\n",
       "Madhya Pradesh    133940196\n",
       "Name: Total Vaccination Doses, dtype: int64"
      ]
     },
     "execution_count": 30,
     "metadata": {},
     "output_type": "execute_result"
    }
   ],
   "source": [
    "#most vacinacted states\n",
    "most_vac=df1.groupby('State/UTs')['Total Vaccination Doses'].max().sort_values(ascending=False).head(5)\n",
    "most_vac"
   ]
  },
  {
   "cell_type": "code",
   "execution_count": 34,
   "id": "fe5d4fb0-8ece-4190-9ee1-292c26a3fcfc",
   "metadata": {},
   "outputs": [
    {
     "data": {
      "text/plain": [
       "Text(0, 0.5, 'Total vaccination')"
      ]
     },
     "execution_count": 34,
     "metadata": {},
     "output_type": "execute_result"
    },
    {
     "data": {
      "image/png": "[encoded data removed]",
      "text/plain": [
       "<Figure size 1000x800 with 1 Axes>"
      ]
     },
     "metadata": {},
     "output_type": "display_data"
    }
   ],
   "source": [
    "fig=plt.figure(figsize=(10,8))\n",
    "ax=sns.barplot(x=most_vac.index,y=most_vac.values,edgecolor='Purple',color='orange')\n",
    "plt.title('Most Vacinated States')\n",
    "plt.xlabel('States')\n",
    "plt.ylabel('Total vaccination')\n"
   ]
  },
  {
   "cell_type": "code",
   "execution_count": null,
   "id": "c54ee3fd-b48e-4c3e-9197-fef338abe5aa",
   "metadata": {},
   "outputs": [],
   "source": []
  }
 ],
 "metadata": {
  "kernelspec": {
   "display_name": "Python 3 (ipykernel)",
   "language": "python",
   "name": "python3"
  },
  "language_info": {
   "codemirror_mode": {
    "name": "ipython",
    "version": 3
   },
   "file_extension": ".py",
   "mimetype": "text/x-python",
   "name": "python",
   "nbconvert_exporter": "python",
   "pygments_lexer": "ipython3",
   "version": "3.13.0"
  }
 },
 "nbformat": 4,
 "nbformat_minor": 5
}
